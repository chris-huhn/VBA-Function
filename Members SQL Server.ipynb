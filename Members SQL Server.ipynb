{
 "cells": [
  {
   "cell_type": "code",
   "execution_count": 14,
   "metadata": {},
   "outputs": [],
   "source": [
    "import pyodbc\n",
    "from sqlalchemy import create_engine\n",
    "import pandas as pd"
   ]
  },
  {
   "cell_type": "code",
   "execution_count": 126,
   "metadata": {},
   "outputs": [],
   "source": [
    "# create engine\n",
    "engine = create_engine('mssql+pyodbc://localhost\\\\SQLEXPRESS/music?driver=SQL Server?Trusted_Connection=yes')"
   ]
  },
  {
   "cell_type": "code",
   "execution_count": 29,
   "metadata": {},
   "outputs": [
    {
     "data": {
      "text/html": [
       "<div>\n",
       "<style scoped>\n",
       "    .dataframe tbody tr th:only-of-type {\n",
       "        vertical-align: middle;\n",
       "    }\n",
       "\n",
       "    .dataframe tbody tr th {\n",
       "        vertical-align: top;\n",
       "    }\n",
       "\n",
       "    .dataframe thead th {\n",
       "        text-align: right;\n",
       "    }\n",
       "</style>\n",
       "<table border=\"1\" class=\"dataframe\">\n",
       "  <thead>\n",
       "    <tr style=\"text-align: right;\">\n",
       "      <th></th>\n",
       "      <th>name</th>\n",
       "    </tr>\n",
       "  </thead>\n",
       "  <tbody>\n",
       "    <tr>\n",
       "      <th>0</th>\n",
       "      <td>master</td>\n",
       "    </tr>\n",
       "    <tr>\n",
       "      <th>1</th>\n",
       "      <td>tempdb</td>\n",
       "    </tr>\n",
       "    <tr>\n",
       "      <th>2</th>\n",
       "      <td>model</td>\n",
       "    </tr>\n",
       "    <tr>\n",
       "      <th>3</th>\n",
       "      <td>msdb</td>\n",
       "    </tr>\n",
       "    <tr>\n",
       "      <th>4</th>\n",
       "      <td>music</td>\n",
       "    </tr>\n",
       "    <tr>\n",
       "      <th>5</th>\n",
       "      <td>company</td>\n",
       "    </tr>\n",
       "  </tbody>\n",
       "</table>\n",
       "</div>"
      ],
      "text/plain": [
       "      name\n",
       "0   master\n",
       "1   tempdb\n",
       "2    model\n",
       "3     msdb\n",
       "4    music\n",
       "5  company"
      ]
     },
     "execution_count": 29,
     "metadata": {},
     "output_type": "execute_result"
    }
   ],
   "source": [
    "# show databases\n",
    "pd.read_sql_query('select name from sys.databases', con=engine)"
   ]
  },
  {
   "cell_type": "code",
   "execution_count": 4,
   "metadata": {},
   "outputs": [
    {
     "data": {
      "text/plain": [
       "<sqlalchemy.engine.result.ResultProxy at 0x15a6d4621f0>"
      ]
     },
     "execution_count": 4,
     "metadata": {},
     "output_type": "execute_result"
    }
   ],
   "source": [
    "engine.execute('CREATE DATABASE company')"
   ]
  },
  {
   "cell_type": "code",
   "execution_count": 30,
   "metadata": {},
   "outputs": [
    {
     "data": {
      "text/plain": [
       "<sqlalchemy.engine.result.ResultProxy at 0x1b352b52730>"
      ]
     },
     "execution_count": 30,
     "metadata": {},
     "output_type": "execute_result"
    }
   ],
   "source": [
    "engine.execute('use company')"
   ]
  },
  {
   "cell_type": "code",
   "execution_count": 69,
   "metadata": {},
   "outputs": [
    {
     "data": {
      "text/plain": [
       "<sqlalchemy.engine.result.ResultProxy at 0x1b352740130>"
      ]
     },
     "execution_count": 69,
     "metadata": {},
     "output_type": "execute_result"
    }
   ],
   "source": [
    "# create table members \n",
    "engine.execute(\"\\\n",
    "CREATE TABLE members (\\\n",
    "    Member_ID INT IDENTITY(100,1) PRIMARY KEY,\\\n",
    "    First_Name VARCHAR(50) NOT NULL,\\\n",
    "    Last_Name VARCHAR(50) NOT NULL,\\\n",
    "    Date_Of_Birth VARCHAR(10) NOT NULL,\\\n",
    "    Address VARCHAR(50) NOT NULL,\\\n",
    "    City VARCHAR(30) NOT NULL,\\\n",
    "    State VARCHAR(2) NOT NULL,\\\n",
    "    ZIP_Code INT NOT NULL,\\\n",
    "    Plan_Type VARCHAR(20) NOT NULL\\\n",
    ");\")"
   ]
  },
  {
   "cell_type": "code",
   "execution_count": 67,
   "metadata": {},
   "outputs": [],
   "source": [
    "# create dataframe \n",
    "members = pd.read_csv('members.csv', index_col=[0])"
   ]
  },
  {
   "cell_type": "code",
   "execution_count": 68,
   "metadata": {},
   "outputs": [
    {
     "data": {
      "text/html": [
       "<div>\n",
       "<style scoped>\n",
       "    .dataframe tbody tr th:only-of-type {\n",
       "        vertical-align: middle;\n",
       "    }\n",
       "\n",
       "    .dataframe tbody tr th {\n",
       "        vertical-align: top;\n",
       "    }\n",
       "\n",
       "    .dataframe thead th {\n",
       "        text-align: right;\n",
       "    }\n",
       "</style>\n",
       "<table border=\"1\" class=\"dataframe\">\n",
       "  <thead>\n",
       "    <tr style=\"text-align: right;\">\n",
       "      <th></th>\n",
       "      <th>First_Name</th>\n",
       "      <th>Last_Name</th>\n",
       "      <th>Date_Of_Birth</th>\n",
       "      <th>Address</th>\n",
       "      <th>City</th>\n",
       "      <th>State</th>\n",
       "      <th>ZIP_Code</th>\n",
       "      <th>Plan_Type</th>\n",
       "    </tr>\n",
       "  </thead>\n",
       "  <tbody>\n",
       "    <tr>\n",
       "      <th>0</th>\n",
       "      <td>BERNIE</td>\n",
       "      <td>BARRERA</td>\n",
       "      <td>03/29/1944</td>\n",
       "      <td>571 Columbia Ct</td>\n",
       "      <td>Commodore</td>\n",
       "      <td>PA</td>\n",
       "      <td>19104</td>\n",
       "      <td>Silver Star</td>\n",
       "    </tr>\n",
       "    <tr>\n",
       "      <th>1</th>\n",
       "      <td>DORIAN</td>\n",
       "      <td>SALAZAR</td>\n",
       "      <td>03/28/1970</td>\n",
       "      <td>4 Madison Rd</td>\n",
       "      <td>HBG</td>\n",
       "      <td>PA</td>\n",
       "      <td>19187</td>\n",
       "      <td>Silver Star</td>\n",
       "    </tr>\n",
       "    <tr>\n",
       "      <th>2</th>\n",
       "      <td>VALENTIN</td>\n",
       "      <td>JARVIS</td>\n",
       "      <td>03/22/1994</td>\n",
       "      <td>903 West Blvd</td>\n",
       "      <td>Meadville</td>\n",
       "      <td>PA</td>\n",
       "      <td>16820</td>\n",
       "      <td>Platinum Star</td>\n",
       "    </tr>\n",
       "    <tr>\n",
       "      <th>3</th>\n",
       "      <td>ARIEL</td>\n",
       "      <td>MONTES</td>\n",
       "      <td>09/29/1938</td>\n",
       "      <td>221 Round Cir</td>\n",
       "      <td>Slateville</td>\n",
       "      <td>PA</td>\n",
       "      <td>16922</td>\n",
       "      <td>Platinum Star</td>\n",
       "    </tr>\n",
       "    <tr>\n",
       "      <th>4</th>\n",
       "      <td>ADOLPH</td>\n",
       "      <td>POOLE</td>\n",
       "      <td>09/21/1996</td>\n",
       "      <td>594 Hillsboro St</td>\n",
       "      <td>Houtzdale</td>\n",
       "      <td>PA</td>\n",
       "      <td>17301</td>\n",
       "      <td>Silver Star</td>\n",
       "    </tr>\n",
       "  </tbody>\n",
       "</table>\n",
       "</div>"
      ],
      "text/plain": [
       "  First_Name Last_Name Date_Of_Birth           Address        City State  \\\n",
       "0     BERNIE   BARRERA    03/29/1944   571 Columbia Ct   Commodore    PA   \n",
       "1     DORIAN   SALAZAR    03/28/1970      4 Madison Rd         HBG    PA   \n",
       "2   VALENTIN    JARVIS    03/22/1994     903 West Blvd   Meadville    PA   \n",
       "3      ARIEL    MONTES    09/29/1938     221 Round Cir  Slateville    PA   \n",
       "4     ADOLPH     POOLE    09/21/1996  594 Hillsboro St   Houtzdale    PA   \n",
       "\n",
       "   ZIP_Code      Plan_Type  \n",
       "0     19104    Silver Star  \n",
       "1     19187    Silver Star  \n",
       "2     16820  Platinum Star  \n",
       "3     16922  Platinum Star  \n",
       "4     17301    Silver Star  "
      ]
     },
     "execution_count": 68,
     "metadata": {},
     "output_type": "execute_result"
    }
   ],
   "source": [
    "members.head()"
   ]
  },
  {
   "cell_type": "code",
   "execution_count": 37,
   "metadata": {},
   "outputs": [
    {
     "data": {
      "text/plain": [
       "1944"
      ]
     },
     "execution_count": 37,
     "metadata": {},
     "output_type": "execute_result"
    }
   ],
   "source": [
    "int(members['Date_Of_Birth'][0][-4:])"
   ]
  },
  {
   "cell_type": "code",
   "execution_count": 70,
   "metadata": {},
   "outputs": [],
   "source": [
    "# write data frame to SQL\n",
    "members.to_sql('members', con=engine, if_exists='append', index=False)"
   ]
  },
  {
   "cell_type": "code",
   "execution_count": 71,
   "metadata": {},
   "outputs": [
    {
     "data": {
      "text/html": [
       "<div>\n",
       "<style scoped>\n",
       "    .dataframe tbody tr th:only-of-type {\n",
       "        vertical-align: middle;\n",
       "    }\n",
       "\n",
       "    .dataframe tbody tr th {\n",
       "        vertical-align: top;\n",
       "    }\n",
       "\n",
       "    .dataframe thead th {\n",
       "        text-align: right;\n",
       "    }\n",
       "</style>\n",
       "<table border=\"1\" class=\"dataframe\">\n",
       "  <thead>\n",
       "    <tr style=\"text-align: right;\">\n",
       "      <th></th>\n",
       "      <th>Member_ID</th>\n",
       "      <th>First_Name</th>\n",
       "      <th>Last_Name</th>\n",
       "      <th>Date_Of_Birth</th>\n",
       "      <th>Address</th>\n",
       "      <th>City</th>\n",
       "      <th>State</th>\n",
       "      <th>ZIP_Code</th>\n",
       "      <th>Plan_Type</th>\n",
       "    </tr>\n",
       "  </thead>\n",
       "  <tbody>\n",
       "    <tr>\n",
       "      <th>0</th>\n",
       "      <td>100</td>\n",
       "      <td>BERNIE</td>\n",
       "      <td>BARRERA</td>\n",
       "      <td>03/29/1944</td>\n",
       "      <td>571 Columbia Ct</td>\n",
       "      <td>Commodore</td>\n",
       "      <td>PA</td>\n",
       "      <td>19104</td>\n",
       "      <td>Silver Star</td>\n",
       "    </tr>\n",
       "    <tr>\n",
       "      <th>1</th>\n",
       "      <td>101</td>\n",
       "      <td>DORIAN</td>\n",
       "      <td>SALAZAR</td>\n",
       "      <td>03/28/1970</td>\n",
       "      <td>4 Madison Rd</td>\n",
       "      <td>HBG</td>\n",
       "      <td>PA</td>\n",
       "      <td>19187</td>\n",
       "      <td>Silver Star</td>\n",
       "    </tr>\n",
       "    <tr>\n",
       "      <th>2</th>\n",
       "      <td>102</td>\n",
       "      <td>VALENTIN</td>\n",
       "      <td>JARVIS</td>\n",
       "      <td>03/22/1994</td>\n",
       "      <td>903 West Blvd</td>\n",
       "      <td>Meadville</td>\n",
       "      <td>PA</td>\n",
       "      <td>16820</td>\n",
       "      <td>Platinum Star</td>\n",
       "    </tr>\n",
       "    <tr>\n",
       "      <th>3</th>\n",
       "      <td>103</td>\n",
       "      <td>ARIEL</td>\n",
       "      <td>MONTES</td>\n",
       "      <td>09/29/1938</td>\n",
       "      <td>221 Round Cir</td>\n",
       "      <td>Slateville</td>\n",
       "      <td>PA</td>\n",
       "      <td>16922</td>\n",
       "      <td>Platinum Star</td>\n",
       "    </tr>\n",
       "    <tr>\n",
       "      <th>4</th>\n",
       "      <td>104</td>\n",
       "      <td>ADOLPH</td>\n",
       "      <td>POOLE</td>\n",
       "      <td>09/21/1996</td>\n",
       "      <td>594 Hillsboro St</td>\n",
       "      <td>Houtzdale</td>\n",
       "      <td>PA</td>\n",
       "      <td>17301</td>\n",
       "      <td>Silver Star</td>\n",
       "    </tr>\n",
       "    <tr>\n",
       "      <th>...</th>\n",
       "      <td>...</td>\n",
       "      <td>...</td>\n",
       "      <td>...</td>\n",
       "      <td>...</td>\n",
       "      <td>...</td>\n",
       "      <td>...</td>\n",
       "      <td>...</td>\n",
       "      <td>...</td>\n",
       "      <td>...</td>\n",
       "    </tr>\n",
       "    <tr>\n",
       "      <th>95</th>\n",
       "      <td>195</td>\n",
       "      <td>DONNELL</td>\n",
       "      <td>SIMMONS</td>\n",
       "      <td>05/11/1986</td>\n",
       "      <td>594 Havelock Rd</td>\n",
       "      <td>Duquesne</td>\n",
       "      <td>PA</td>\n",
       "      <td>17059</td>\n",
       "      <td>Gold Star</td>\n",
       "    </tr>\n",
       "    <tr>\n",
       "      <th>96</th>\n",
       "      <td>196</td>\n",
       "      <td>DEANDRE</td>\n",
       "      <td>SWANSON</td>\n",
       "      <td>09/20/1994</td>\n",
       "      <td>989 Newport Rd</td>\n",
       "      <td>Northpoint</td>\n",
       "      <td>PA</td>\n",
       "      <td>18403</td>\n",
       "      <td>Silver Star</td>\n",
       "    </tr>\n",
       "    <tr>\n",
       "      <th>97</th>\n",
       "      <td>197</td>\n",
       "      <td>ABE</td>\n",
       "      <td>QUINTERO</td>\n",
       "      <td>09/21/1988</td>\n",
       "      <td>253 Stillwater Cir</td>\n",
       "      <td>Sereno</td>\n",
       "      <td>PA</td>\n",
       "      <td>19420</td>\n",
       "      <td>Gold Star</td>\n",
       "    </tr>\n",
       "    <tr>\n",
       "      <th>98</th>\n",
       "      <td>198</td>\n",
       "      <td>ELISEO</td>\n",
       "      <td>WILKINS</td>\n",
       "      <td>02/04/2009</td>\n",
       "      <td>191 Northbrook St</td>\n",
       "      <td>Philadelphia</td>\n",
       "      <td>PA</td>\n",
       "      <td>15615</td>\n",
       "      <td>Platinum Star</td>\n",
       "    </tr>\n",
       "    <tr>\n",
       "      <th>99</th>\n",
       "      <td>199</td>\n",
       "      <td>DERICK</td>\n",
       "      <td>WALLER</td>\n",
       "      <td>06/24/1983</td>\n",
       "      <td>674 Barberton Cir</td>\n",
       "      <td>Weidmanville</td>\n",
       "      <td>PA</td>\n",
       "      <td>19003</td>\n",
       "      <td>Gold Star</td>\n",
       "    </tr>\n",
       "  </tbody>\n",
       "</table>\n",
       "<p>100 rows × 9 columns</p>\n",
       "</div>"
      ],
      "text/plain": [
       "    Member_ID First_Name Last_Name Date_Of_Birth             Address  \\\n",
       "0         100     BERNIE   BARRERA    03/29/1944     571 Columbia Ct   \n",
       "1         101     DORIAN   SALAZAR    03/28/1970        4 Madison Rd   \n",
       "2         102   VALENTIN    JARVIS    03/22/1994       903 West Blvd   \n",
       "3         103      ARIEL    MONTES    09/29/1938       221 Round Cir   \n",
       "4         104     ADOLPH     POOLE    09/21/1996    594 Hillsboro St   \n",
       "..        ...        ...       ...           ...                 ...   \n",
       "95        195    DONNELL   SIMMONS    05/11/1986     594 Havelock Rd   \n",
       "96        196    DEANDRE   SWANSON    09/20/1994      989 Newport Rd   \n",
       "97        197        ABE  QUINTERO    09/21/1988  253 Stillwater Cir   \n",
       "98        198     ELISEO   WILKINS    02/04/2009   191 Northbrook St   \n",
       "99        199     DERICK    WALLER    06/24/1983   674 Barberton Cir   \n",
       "\n",
       "            City State  ZIP_Code      Plan_Type  \n",
       "0      Commodore    PA     19104    Silver Star  \n",
       "1            HBG    PA     19187    Silver Star  \n",
       "2      Meadville    PA     16820  Platinum Star  \n",
       "3     Slateville    PA     16922  Platinum Star  \n",
       "4      Houtzdale    PA     17301    Silver Star  \n",
       "..           ...   ...       ...            ...  \n",
       "95      Duquesne    PA     17059      Gold Star  \n",
       "96    Northpoint    PA     18403    Silver Star  \n",
       "97        Sereno    PA     19420      Gold Star  \n",
       "98  Philadelphia    PA     15615  Platinum Star  \n",
       "99  Weidmanville    PA     19003      Gold Star  \n",
       "\n",
       "[100 rows x 9 columns]"
      ]
     },
     "execution_count": 71,
     "metadata": {},
     "output_type": "execute_result"
    }
   ],
   "source": [
    "pd.read_sql_query('select * from members', con=engine)"
   ]
  },
  {
   "cell_type": "code",
   "execution_count": 128,
   "metadata": {},
   "outputs": [],
   "source": [
    "engine.dispose()"
   ]
  }
 ],
 "metadata": {
  "kernelspec": {
   "display_name": "Python 3",
   "language": "python",
   "name": "python3"
  },
  "language_info": {
   "codemirror_mode": {
    "name": "ipython",
    "version": 3
   },
   "file_extension": ".py",
   "mimetype": "text/x-python",
   "name": "python",
   "nbconvert_exporter": "python",
   "pygments_lexer": "ipython3",
   "version": "3.8.5"
  }
 },
 "nbformat": 4,
 "nbformat_minor": 4
}
